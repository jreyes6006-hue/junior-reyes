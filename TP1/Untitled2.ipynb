{
  "nbformat": 4,
  "nbformat_minor": 0,
  "metadata": {
    "colab": {
      "provenance": [],
      "authorship_tag": "ABX9TyOCjVx+vrGlc9rVzOyAJRGI",
      "include_colab_link": true
    },
    "kernelspec": {
      "name": "python3",
      "display_name": "Python 3"
    },
    "language_info": {
      "name": "python"
    }
  },
  "cells": [
    {
      "cell_type": "markdown",
      "metadata": {
        "id": "view-in-github",
        "colab_type": "text"
      },
      "source": [
        "<a href=\"https://colab.research.google.com/github/jreyes6006-hue/junior-reyes/blob/main/TP1/Untitled2.ipynb\" target=\"_parent\"><img src=\"https://colab.research.google.com/assets/colab-badge.svg\" alt=\"Open In Colab\"/></a>"
      ]
    },
    {
      "cell_type": "code",
      "execution_count": null,
      "metadata": {
        "colab": {
          "base_uri": "https://localhost:8080/"
        },
        "id": "OEej4fKve3Vk",
        "outputId": "2e574e10-67b0-4e86-ad05-5a502b847b5a"
      },
      "outputs": [
        {
          "output_type": "stream",
          "name": "stdout",
          "text": [
            "Hola mundo\n"
          ]
        }
      ],
      "source": [
        "#1\n",
        "print(\"Hola mundo\")"
      ]
    },
    {
      "cell_type": "code",
      "source": [
        "#2\n",
        "nombre = input(\"ingresa tu nombre: \")\n",
        "print(\"hola\", nombre)"
      ],
      "metadata": {
        "colab": {
          "base_uri": "https://localhost:8080/"
        },
        "id": "lLXj_KYEfYq4",
        "outputId": "fe21dc24-f4b1-4bbe-ea78-23ca2d3a3f84"
      },
      "execution_count": null,
      "outputs": [
        {
          "output_type": "stream",
          "name": "stdout",
          "text": [
            "ingresa tu nombre: junior\n",
            "hola junior\n"
          ]
        }
      ]
    },
    {
      "cell_type": "code",
      "source": [
        "#3\n",
        "a=int(input(\"primer numero:\"))\n",
        "b=int(input(\"segundo numero\"))\n",
        "print(\"La suma es:\", a + b)\n"
      ],
      "metadata": {
        "colab": {
          "base_uri": "https://localhost:8080/"
        },
        "id": "_hmHJ2lBf6xH",
        "outputId": "4714d4fc-9bf6-4de4-becc-46c34ec317ac"
      },
      "execution_count": null,
      "outputs": [
        {
          "output_type": "stream",
          "name": "stdout",
          "text": [
            "primer numero:8\n",
            "segundo numero7\n",
            "La suma es: 15\n"
          ]
        }
      ]
    },
    {
      "cell_type": "code",
      "source": [
        "#4\n",
        "base= float(input(\"base:\" ))\n",
        "altura= float(input(\"altura: \"))\n",
        "print(\"area:\",(base * altura) / 2)\n",
        "\n"
      ],
      "metadata": {
        "colab": {
          "base_uri": "https://localhost:8080/"
        },
        "id": "vw31y3tShm6O",
        "outputId": "88f73ed7-7a1f-49bc-eb5a-fc916f54b17b"
      },
      "execution_count": null,
      "outputs": [
        {
          "output_type": "stream",
          "name": "stdout",
          "text": [
            "base:5\n",
            "altura: 4\n",
            "area: 10.0\n"
          ]
        }
      ]
    },
    {
      "cell_type": "code",
      "source": [
        "#5\n",
        "c = float(input(\"Grados celsius:\"))\n",
        "f = (c * 9/5)+32\n",
        "print(\"En fahrenheit:\", f)"
      ],
      "metadata": {
        "colab": {
          "base_uri": "https://localhost:8080/"
        },
        "id": "N2yPEb9tippZ",
        "outputId": "637f4495-eebb-48d4-fe1a-8504220bd178"
      },
      "execution_count": null,
      "outputs": [
        {
          "output_type": "stream",
          "name": "stdout",
          "text": [
            "Grados celsius:80\n",
            "En fahrenheit: 176.0\n"
          ]
        }
      ]
    },
    {
      "cell_type": "code",
      "source": [
        "#6\n",
        "n= int(input(\"numero:\"))\n",
        "if n % 2 ==0:\n",
        "  print(\"es par\")\n",
        "else:\n",
        "  print(\"es impar\")"
      ],
      "metadata": {
        "colab": {
          "base_uri": "https://localhost:8080/"
        },
        "id": "OC7kfVORjqpb",
        "outputId": "83490294-aaff-42b1-c6fa-6c3a1c700a35"
      },
      "execution_count": null,
      "outputs": [
        {
          "output_type": "stream",
          "name": "stdout",
          "text": [
            "numero:29\n",
            "es impar\n"
          ]
        }
      ]
    },
    {
      "cell_type": "code",
      "source": [
        "#7\n",
        "a=int(input(\"Numero 1: \"))\n",
        "b=int(input(\"Numero 2: \"))\n",
        "c=int(input(\"Numero 3: \"))\n",
        "print(\"El mayor es:\", max(a, b, c))"
      ],
      "metadata": {
        "colab": {
          "base_uri": "https://localhost:8080/"
        },
        "id": "13PxNPSXkdGZ",
        "outputId": "27710cea-73e1-48f7-c35f-1cfd2c4f8107"
      },
      "execution_count": null,
      "outputs": [
        {
          "output_type": "stream",
          "name": "stdout",
          "text": [
            "Numero 1: 5\n",
            "Numero 2: 4\n",
            "Numero 3: 12\n",
            "El mayor es: 12\n"
          ]
        }
      ]
    },
    {
      "cell_type": "code",
      "source": [
        "#8\n",
        "n=int(input(\"Numero:\"))\n",
        "print(\"El cuadrado es:\", n**2)"
      ],
      "metadata": {
        "colab": {
          "base_uri": "https://localhost:8080/"
        },
        "id": "KaTd5Xx_mHGp",
        "outputId": "fe05a8c6-984a-4359-a38a-30de64cd30f8"
      },
      "execution_count": null,
      "outputs": [
        {
          "output_type": "stream",
          "name": "stdout",
          "text": [
            "Numero4\n",
            "El cuadrado es: 16\n"
          ]
        }
      ]
    },
    {
      "cell_type": "code",
      "source": [
        "#9\n",
        "n=int(input(\"Numero:\"))\n",
        "for i in range(1, 11):\n",
        "  print(n, \"x\", i, \"=\", n*i)"
      ],
      "metadata": {
        "colab": {
          "base_uri": "https://localhost:8080/"
        },
        "id": "rlzHso9XlQvA",
        "outputId": "40baf6e9-34a3-4d2f-8e16-b3e676bd939a"
      },
      "execution_count": null,
      "outputs": [
        {
          "output_type": "stream",
          "name": "stdout",
          "text": [
            "Numero:254\n",
            "254 x 1 = 254\n",
            "254 x 2 = 508\n",
            "254 x 3 = 762\n",
            "254 x 4 = 1016\n",
            "254 x 5 = 1270\n",
            "254 x 6 = 1524\n",
            "254 x 7 = 1778\n",
            "254 x 8 = 2032\n",
            "254 x 9 = 2286\n",
            "254 x 10 = 2540\n"
          ]
        }
      ]
    },
    {
      "cell_type": "code",
      "source": [
        "#10\n",
        "palabra= input(\"Escribe la palabra: \")\n",
        "print(\"Al revez:\", palabra [::-1])\n"
      ],
      "metadata": {
        "colab": {
          "base_uri": "https://localhost:8080/"
        },
        "id": "kRRuEgxMmsuf",
        "outputId": "2cf39cc8-d4e1-4cc6-98a2-2d4cf007d8ba"
      },
      "execution_count": null,
      "outputs": [
        {
          "output_type": "stream",
          "name": "stdout",
          "text": [
            "Escribe la palabra: caroline\n",
            "Al revez: enilorac\n"
          ]
        }
      ]
    },
    {
      "cell_type": "code",
      "source": [
        "#11\n",
        "edad = int(input(\"Edad: \"))\n",
        "if edad >= 18:\n",
        "  print(\"Mayor de edad\")\n",
        "else:\n",
        "    print(\"Menor de edad\")\n"
      ],
      "metadata": {
        "colab": {
          "base_uri": "https://localhost:8080/"
        },
        "id": "5oj4c0HeoETQ",
        "outputId": "96d950b2-e9a9-4965-a189-7a5323e9948b"
      },
      "execution_count": null,
      "outputs": [
        {
          "output_type": "stream",
          "name": "stdout",
          "text": [
            "Edad: 17\n",
            "Menor de edad\n"
          ]
        }
      ]
    },
    {
      "cell_type": "code",
      "source": [
        "#12\n",
        "n = int(input(\"Numero: \"))\n",
        "fact = 1\n",
        "for i in range(1, n+1):\n",
        "  fact *= i\n",
        "  print(\"Factorial:\", fact)"
      ],
      "metadata": {
        "colab": {
          "base_uri": "https://localhost:8080/"
        },
        "id": "duOMx1CIxOKs",
        "outputId": "2ac6c0c9-328b-49bb-ce19-5ba8c53ae5a9"
      },
      "execution_count": null,
      "outputs": [
        {
          "output_type": "stream",
          "name": "stdout",
          "text": [
            "Numero: 5\n",
            "Factorial: 1\n",
            "Factorial: 2\n",
            "Factorial: 6\n",
            "Factorial: 24\n",
            "Factorial: 120\n"
          ]
        }
      ]
    },
    {
      "cell_type": "code",
      "source": [
        "#13\n",
        "suma = 0\n",
        "for i in range(5):\n",
        "  num = float(input(\"Numero: \"))\n",
        "  suma += num\n",
        "  print(\"Promedio:\", suma / 5)"
      ],
      "metadata": {
        "colab": {
          "base_uri": "https://localhost:8080/"
        },
        "id": "vhbmcf5Vx-GC",
        "outputId": "d8889d91-5264-43f2-a242-43d53a1e9761"
      },
      "execution_count": null,
      "outputs": [
        {
          "output_type": "stream",
          "name": "stdout",
          "text": [
            "Numero: 10\n",
            "Promedio: 2.0\n",
            "Numero: 5\n",
            "Promedio: 3.0\n",
            "Numero: 3\n",
            "Promedio: 3.6\n",
            "Numero: 9\n",
            "Promedio: 5.4\n",
            "Numero: 20\n",
            "Promedio: 9.4\n"
          ]
        }
      ]
    },
    {
      "cell_type": "code",
      "source": [
        "#14\n",
        "n = int(input(\"Numero: \"))\n",
        "for i in range(2, n+1, 2):\n",
        "  print(i)"
      ],
      "metadata": {
        "colab": {
          "base_uri": "https://localhost:8080/"
        },
        "id": "ngMEVeUsy0K3",
        "outputId": "0eefb92f-2c45-430e-f969-6c077d69433d"
      },
      "execution_count": null,
      "outputs": [
        {
          "output_type": "stream",
          "name": "stdout",
          "text": [
            "Numero: 5\n",
            "2\n",
            "4\n"
          ]
        }
      ]
    },
    {
      "cell_type": "code",
      "source": [
        "#15\n",
        "letra = input(\"Letra: \").lower()\n",
        "if letra in \"aeiou\":\n",
        "  print(\"Es vocal\")\n",
        "else:\n",
        "  print(\"Es consonante\")\n"
      ],
      "metadata": {
        "colab": {
          "base_uri": "https://localhost:8080/"
        },
        "id": "SRNi5Ahlzh8A",
        "outputId": "22c982ff-c767-4fa0-ac2d-bfa15f379dce"
      },
      "execution_count": null,
      "outputs": [
        {
          "output_type": "stream",
          "name": "stdout",
          "text": [
            "Letra: o\n",
            "Es vocal\n"
          ]
        }
      ]
    },
    {
      "cell_type": "code",
      "source": [
        "#16\n",
        "a, b = 0, 1\n",
        "for i in range(20):\n",
        "  print(a)\n",
        "  a, b = b, a+b"
      ],
      "metadata": {
        "colab": {
          "base_uri": "https://localhost:8080/"
        },
        "id": "iIUv67LV1K6p",
        "outputId": "c78f98a0-166b-43fc-d707-8dcccaacc376"
      },
      "execution_count": null,
      "outputs": [
        {
          "output_type": "stream",
          "name": "stdout",
          "text": [
            "0\n",
            "1\n",
            "1\n",
            "2\n",
            "3\n",
            "5\n",
            "8\n",
            "13\n",
            "21\n",
            "34\n",
            "55\n",
            "89\n",
            "144\n",
            "233\n",
            "377\n",
            "610\n",
            "987\n",
            "1597\n",
            "2584\n",
            "4181\n"
          ]
        }
      ]
    },
    {
      "cell_type": "code",
      "source": [
        "#17\n",
        "n = int(input(\"Numero: \"))\n",
        "es_primo = True\n",
        "if n < 2:\n",
        "  es_primo = False\n",
        "else:\n",
        "  for i in range(2, n):\n",
        "    if n % i == 0:\n",
        "      es_primo = False\n",
        "      break\n",
        "\n",
        "print(\"Es primo\" if es_primo else \"No es primo\")\n"
      ],
      "metadata": {
        "colab": {
          "base_uri": "https://localhost:8080/"
        },
        "id": "idq5Qm0s2gww",
        "outputId": "50f5a2fa-93c1-43c1-d6e2-61f82726f3ee"
      },
      "execution_count": null,
      "outputs": [
        {
          "output_type": "stream",
          "name": "stdout",
          "text": [
            "Numero: 1\n",
            "No es primo\n"
          ]
        }
      ]
    },
    {
      "cell_type": "code",
      "source": [
        "#18\n",
        "for i in range(1, 101):\n",
        "  if i % 5 == 0:\n",
        "    print(i)"
      ],
      "metadata": {
        "colab": {
          "base_uri": "https://localhost:8080/"
        },
        "id": "n505Ai_77Z5a",
        "outputId": "32da68e3-b0a9-4caa-f9da-67bcc6e1464d"
      },
      "execution_count": null,
      "outputs": [
        {
          "output_type": "stream",
          "name": "stdout",
          "text": [
            "5\n",
            "10\n",
            "15\n",
            "20\n",
            "25\n",
            "30\n",
            "35\n",
            "40\n",
            "45\n",
            "50\n",
            "55\n",
            "60\n",
            "65\n",
            "70\n",
            "75\n",
            "80\n",
            "85\n",
            "90\n",
            "95\n",
            "100\n"
          ]
        }
      ]
    },
    {
      "cell_type": "code",
      "source": [
        "#19\n",
        "palabra = input(\"Escribe un palabra: \").lower()\n",
        "contador = 0\n",
        "\n",
        "for letra in palabra:\n",
        "  if letra in \"aeiou\":\n",
        "    contador += 1\n",
        "\n",
        "    print(\"La palbra tiene\", contador, \"voacal(es)\")\n"
      ],
      "metadata": {
        "id": "J0gdqEQN7y5l",
        "colab": {
          "base_uri": "https://localhost:8080/"
        },
        "outputId": "a64f461f-19bd-47ed-b091-460d33eab048"
      },
      "execution_count": 3,
      "outputs": [
        {
          "output_type": "stream",
          "name": "stdout",
          "text": [
            "Escribe un palabra: sol\n",
            "La palbra tiene 1 voacal(es)\n"
          ]
        }
      ]
    },
    {
      "cell_type": "code",
      "source": [
        "#20\n",
        "a = float(input(\"Numero1: \"))\n",
        "b = float(input(\"Numero2: \"))\n",
        "op = input(\"Operracion (+ - * /): \")\n",
        "\n",
        "if op == \"+\":\n",
        "    print(\"Resultado:\", a + b)\n",
        "elif op == \"-\":\n",
        "    print(\"Resultado:\", a - b)\n",
        "elif op == \"*\":\n",
        "    print(\"Resultado:\", a * b)\n",
        "elif op == \"/\":\n",
        "    if b != 0:\n",
        "        print(\"Resultado:\", a / b)\n",
        "    else:\n",
        "       print(\"No se puede dividir entre 0\")\n",
        "\n",
        "else:\n",
        "\n",
        "    print(\"Operacion no valida\")\n",
        "\n",
        "\n"
      ],
      "metadata": {
        "colab": {
          "base_uri": "https://localhost:8080/"
        },
        "id": "IZdTCHf-Qpzx",
        "outputId": "3bf8975e-b222-4a33-e6d9-2b241586852c"
      },
      "execution_count": 12,
      "outputs": [
        {
          "output_type": "stream",
          "name": "stdout",
          "text": [
            "Numero1: 100\n",
            "Numero2: 3\n",
            "Operracion (+ - * /): /\n",
            "Resultado: 33.333333333333336\n"
          ]
        }
      ]
    },
    {
      "cell_type": "code",
      "source": [
        "#21\n",
        "numeros = []\n",
        "for i in range(10):\n",
        "  n = int(input(f\"Ingresa el numero {i+1}: \"))\n",
        "  numeros.append(n)\n",
        "\n",
        "print(\"La lista es:\", numeros)\n",
        "print(\"El mayor es:\", max(numeros))"
      ],
      "metadata": {
        "colab": {
          "base_uri": "https://localhost:8080/"
        },
        "id": "uweC6F5CXcuc",
        "outputId": "eda90305-0b9a-4f74-a7cd-f930e47300d9"
      },
      "execution_count": 19,
      "outputs": [
        {
          "output_type": "stream",
          "name": "stdout",
          "text": [
            "Ingresa el numero 1: 4\n",
            "Ingresa el numero 2: 6\n",
            "Ingresa el numero 3: 2\n",
            "Ingresa el numero 4: 5\n",
            "Ingresa el numero 5: 7\n",
            "Ingresa el numero 6: 4\n",
            "Ingresa el numero 7: 3\n",
            "Ingresa el numero 8: 7\n",
            "Ingresa el numero 9: 4\n",
            "Ingresa el numero 10: 7\n",
            "La lista es: [4, 6, 2, 5, 7, 4, 3, 7, 4, 7]\n",
            "El mayor es: 7\n"
          ]
        }
      ]
    },
    {
      "cell_type": "code",
      "source": [
        "#22\n",
        "numeros = []\n",
        "\n",
        "for i in range(5):\n",
        "  n = int(input(f\"Ingresa el numero {i+1} \"))\n",
        "  numeros.append(n)\n",
        "\n",
        "print(\"Lista original:\", numeros)\n",
        "numeros.sort()\n",
        "print(\"Lista ordenada:\", numeros)"
      ],
      "metadata": {
        "colab": {
          "base_uri": "https://localhost:8080/"
        },
        "id": "zwJhxmdnZnTm",
        "outputId": "340b1dff-7174-40a3-c978-c8e76472d8cb"
      },
      "execution_count": 23,
      "outputs": [
        {
          "output_type": "stream",
          "name": "stdout",
          "text": [
            "Ingresa el numero 1 3\n",
            "Ingresa el numero 2 5\n",
            "Ingresa el numero 3 7\n",
            "Ingresa el numero 4 2\n",
            "Ingresa el numero 5 5\n",
            "Lista original: [3, 5, 7, 2, 5]\n",
            "Lista ordenada: [2, 3, 5, 5, 7]\n"
          ]
        }
      ]
    },
    {
      "cell_type": "code",
      "source": [
        "#23\n",
        "numeros = []\n",
        "for i in range(8):\n",
        "  n = int(input(f\"Ingresa el numero {i+1}: \"))\n",
        "  numeros.append(n)\n",
        "print(\"Lista original\", numeros)\n",
        "\n",
        "sin_duplicados = list(set(numeros))\n",
        "\n",
        "print(\"Lista sin duplicados\", sin_duplicados)\n",
        "\n",
        ""
      ],
      "metadata": {
        "colab": {
          "base_uri": "https://localhost:8080/"
        },
        "id": "P36kJzZfa-Pj",
        "outputId": "63bca178-6414-4d08-9c0f-151503016967"
      },
      "execution_count": 24,
      "outputs": [
        {
          "output_type": "stream",
          "name": "stdout",
          "text": [
            "Ingresa el numero 1: 4\n",
            "Ingresa el numero 2: 2\n",
            "Ingresa el numero 3: 6\n",
            "Ingresa el numero 4: 4\n",
            "Ingresa el numero 5: 7\n",
            "Ingresa el numero 6: 2\n",
            "Ingresa el numero 7: 7\n",
            "Ingresa el numero 8: 9\n",
            "Lista original [4, 2, 6, 4, 7, 2, 7, 9]\n",
            "Lista sin duplicados [2, 4, 6, 7, 9]\n"
          ]
        }
      ]
    },
    {
      "cell_type": "code",
      "source": [
        "#24\n",
        "nombres = []\n",
        "\n",
        "for i in range(5):\n",
        "  nombre = input(f\"Ingresa el nombre {i+1}: \")\n",
        "  nombres.append(nombre)\n",
        "\n",
        "print(\"Lista original\", nombres)\n",
        "nombres.sort()\n",
        "print(\"Lista ordenada\", nombres)"
      ],
      "metadata": {
        "colab": {
          "base_uri": "https://localhost:8080/"
        },
        "id": "E9D-xRgxcRXO",
        "outputId": "7357df42-eaa3-4fd7-d181-f13e9c4f8463"
      },
      "execution_count": 29,
      "outputs": [
        {
          "output_type": "stream",
          "name": "stdout",
          "text": [
            "Ingresa el nombre 1: ana\n",
            "Ingresa el nombre 2: gabriel\n",
            "Ingresa el nombre 3: ema\n",
            "Ingresa el nombre 4: junior\n",
            "Ingresa el nombre 5: juan\n",
            "Lista original ['ana', 'gabriel', 'ema', 'junior', 'juan']\n",
            "Lista ordenada ['ana', 'ema', 'gabriel', 'juan', 'junior']\n"
          ]
        }
      ]
    },
    {
      "cell_type": "code",
      "source": [
        "#25\n",
        "numeros = []\n",
        "\n",
        "for i in range(5):\n",
        "  n = int(input(f\"Ingresa el numero {i+1}: \"))\n",
        "  numeros.append(n)\n",
        "\n",
        "  print(\"Lista:\", numeros)\n",
        "  print(\"La suma es:\", sum(numeros))"
      ],
      "metadata": {
        "colab": {
          "base_uri": "https://localhost:8080/"
        },
        "id": "mUWrqfKed5qA",
        "outputId": "def53e0c-d2fc-4fad-cd7a-a7dc8889ac74"
      },
      "execution_count": 30,
      "outputs": [
        {
          "output_type": "stream",
          "name": "stdout",
          "text": [
            "Ingresa el numero 1: 5\n",
            "Lista: [5]\n",
            "La suma es: 5\n",
            "Ingresa el numero 2: 10\n",
            "Lista: [5, 10]\n",
            "La suma es: 15\n",
            "Ingresa el numero 3: 3\n",
            "Lista: [5, 10, 3]\n",
            "La suma es: 18\n",
            "Ingresa el numero 4: 5\n",
            "Lista: [5, 10, 3, 5]\n",
            "La suma es: 23\n",
            "Ingresa el numero 5: 6\n",
            "Lista: [5, 10, 3, 5, 6]\n",
            "La suma es: 29\n"
          ]
        }
      ]
    },
    {
      "cell_type": "code",
      "source": [
        "#26\n",
        "lista1 = []\n",
        "lista2 = []\n",
        "\n",
        "for i in range(3):\n",
        "  n = int(input(f\"Ingresa el numero {i+1} para la lista 1: \"))\n",
        "  lista1.append(n)\n",
        "\n",
        "for i in range(3):\n",
        "  n = int(input(f\"Ingresa el numero {i+1} para la lista 2: \"))\n",
        "  lista2.append(n)\n",
        "\n",
        "\n",
        "lista_unida = lista1 + lista2\n",
        "\n",
        "\n",
        "print(\"Lista 1:\", lista1)\n",
        "print(\"Lista 2:\", lista2)\n",
        "print(\"Lista unida:\", lista_unida)\n"
      ],
      "metadata": {
        "colab": {
          "base_uri": "https://localhost:8080/"
        },
        "id": "Ir0WtnQ9fRU6",
        "outputId": "bf4b1ee3-c86f-4cfc-9406-7e2b1b1ce9ee"
      },
      "execution_count": 31,
      "outputs": [
        {
          "output_type": "stream",
          "name": "stdout",
          "text": [
            "Ingresa el numero 1 para la lista 1: 4\n",
            "Ingresa el numero 2 para la lista 1: 2\n",
            "Ingresa el numero 3 para la lista 1: 4\n",
            "Ingresa el numero {i+1} para la lista 2: 5\n",
            "Ingresa el numero {i+1} para la lista 2: 7\n",
            "Ingresa el numero {i+1} para la lista 2: 8\n",
            "Lista 1: [4, 2, 4]\n",
            "Lista 2: [5, 7, 8]\n",
            "Lista unida: [4, 2, 4, 5, 7, 8]\n"
          ]
        }
      ]
    },
    {
      "cell_type": "code",
      "source": [
        "#27\n",
        "frase = input(\"Escribe una frase: \")\n",
        "palabras = frase.split()\n",
        "print(\"La frase tiene\", len(palabras), \"palabras(s)\")\n"
      ],
      "metadata": {
        "colab": {
          "base_uri": "https://localhost:8080/"
        },
        "id": "KtbRZclfhegy",
        "outputId": "5d217514-3a4d-483a-f7e3-20209e1ae5e1"
      },
      "execution_count": 32,
      "outputs": [
        {
          "output_type": "stream",
          "name": "stdout",
          "text": [
            "Escribe una frase: yo estudia ingenria\n",
            "La frase tiene 3 palabras(s)\n"
          ]
        }
      ]
    },
    {
      "cell_type": "code",
      "source": [
        "#28\n",
        "palabra = input(\"Escribe una palabra: \").lower()\n",
        "if palabra == palabra[::-1]:\n",
        "  print(\"Es una palindromo\")\n",
        "else:\n",
        "  print(\"No es un palindromo\")"
      ],
      "metadata": {
        "colab": {
          "base_uri": "https://localhost:8080/"
        },
        "id": "fgm_9qT3ig6e",
        "outputId": "31ed922e-e149-4e78-98a1-c91057c08dc8"
      },
      "execution_count": 35,
      "outputs": [
        {
          "output_type": "stream",
          "name": "stdout",
          "text": [
            "Escribe una palabra: radar\n",
            "Es una palindromo\n"
          ]
        }
      ]
    },
    {
      "cell_type": "code",
      "source": [
        "#29\n",
        "cuadrados = []\n",
        "for i in range(1, 11):\n",
        "  cuadrados.append(i**2)\n",
        "\n",
        "print(\"Los cuadrados son:\", cuadrados)"
      ],
      "metadata": {
        "colab": {
          "base_uri": "https://localhost:8080/"
        },
        "id": "MzfwQvZTjmLK",
        "outputId": "0f66a4b7-4ded-4fda-e503-df9b89da98f9"
      },
      "execution_count": 37,
      "outputs": [
        {
          "output_type": "stream",
          "name": "stdout",
          "text": [
            "Los cuadrados son: [1, 4, 9, 16, 25, 36, 49, 64, 81, 100]\n",
            "Los cuadrados son: [1, 4, 9, 16, 25, 36, 49, 64, 81, 100]\n"
          ]
        }
      ]
    },
    {
      "cell_type": "code",
      "source": [
        "#30\n",
        "numeros = []\n",
        "\n",
        "for i in range(6):\n",
        "  n = int(input(f\"Ingresa el numero {i+1}: \"))\n",
        "  numeros.append(n)\n",
        "\n",
        "print(\"Lista original:\", numeros)\n",
        "\n",
        "numeros.sort(reverse=True)\n",
        "\n",
        "if len(numeros) >= 2:\n",
        "  print(\"El segundo numero mas grande es:\", numeros[1])\n",
        "else:\n",
        "  print(\"No hay suficientes numeros en la lista\")\n"
      ],
      "metadata": {
        "colab": {
          "base_uri": "https://localhost:8080/"
        },
        "id": "wZVbEwgymSSm",
        "outputId": "995e094d-a1b0-422a-fc86-b8f3e4456347"
      },
      "execution_count": 39,
      "outputs": [
        {
          "output_type": "stream",
          "name": "stdout",
          "text": [
            "Ingresa el numero 1: 3\n",
            "Ingresa el numero 2: 5\n",
            "Ingresa el numero 3: 7\n",
            "Ingresa el numero 4: 3\n",
            "Ingresa el numero 5: 2\n",
            "Ingresa el numero 6: 6\n",
            "Lista original: [3, 5, 7, 3, 2, 6]\n",
            "El segundo numero mas grande es: 6\n"
          ]
        }
      ]
    }
  ]
}
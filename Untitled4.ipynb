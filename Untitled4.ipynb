{
  "nbformat": 4,
  "nbformat_minor": 0,
  "metadata": {
    "colab": {
      "provenance": [],
      "authorship_tag": "ABX9TyNJEQAFfKmufsLeZCAQaG3E",
      "include_colab_link": true
    },
    "kernelspec": {
      "name": "python3",
      "display_name": "Python 3"
    },
    "language_info": {
      "name": "python"
    }
  },
  "cells": [
    {
      "cell_type": "markdown",
      "metadata": {
        "id": "view-in-github",
        "colab_type": "text"
      },
      "source": [
        "<a href=\"https://colab.research.google.com/github/jreyes6006-hue/junior-reyes/blob/main/Untitled4.ipynb\" target=\"_parent\"><img src=\"https://colab.research.google.com/assets/colab-badge.svg\" alt=\"Open In Colab\"/></a>"
      ]
    },
    {
      "cell_type": "code",
      "execution_count": 9,
      "metadata": {
        "colab": {
          "base_uri": "https://localhost:8080/"
        },
        "id": "k4QXs9hfrV62",
        "outputId": "7572f32a-b14c-4f33-8b8d-c9e5a17ddc92"
      },
      "outputs": [
        {
          "output_type": "stream",
          "name": "stdout",
          "text": [
            "Mano: [('5', '♠'), ('5', '♥'), ('5', '♣'), ('k', '♠')]\n",
            "hay poker?: False\n",
            "producto escalar 32\n"
          ]
        }
      ],
      "source": [
        "#1\n",
        "carta1= (\"A\", \"\\u2660\")\n",
        "carta2= (\"10\", \"\\u2665\")\n",
        "\n",
        "mano = [(\"5\", \"\\u2660\"), (\"5\", \"\\u2665\"), (\"5\", \"\\u2663\"), (\"k\", \"\\u2660\")]\n",
        "print(\"Mano:\", mano)\n",
        "\n",
        "\n",
        "#2\n",
        "def poker(mano):\n",
        "  valores = [carta[0] for carta in mano]\n",
        "  for v in valores:\n",
        "     if valores.count(v) ==4:\n",
        "        return True\n",
        "  return False\n",
        "\n",
        "print(\"hay poker?:\", poker(mano))\n",
        "\n",
        "#3\n",
        "def producto_escalar(v1, v2):\n",
        "  return sum(a*b for a, b in zip(v1, v2))\n",
        "\n",
        "print(\"producto escalar\", producto_escalar([1,2,3],[4,5,6]))\n",
        "\n"
      ]
    },
    {
      "cell_type": "code",
      "source": [
        "#4\n",
        "def ortogonales(v1, v2):\n",
        "  return producto_escalar(v1, v2) ==0\n",
        "\n",
        "print(\"son ortogonales?:\", ortogonales([1,0],[0,1]))"
      ],
      "metadata": {
        "colab": {
          "base_uri": "https://localhost:8080/"
        },
        "id": "34BjUjRMyFyZ",
        "outputId": "0f6d77f3-deaa-4f32-98af-840b7a2afcb3"
      },
      "execution_count": 10,
      "outputs": [
        {
          "output_type": "stream",
          "name": "stdout",
          "text": [
            "son ortogonales?: True\n"
          ]
        }
      ]
    },
    {
      "cell_type": "code",
      "source": [
        "#5\n",
        "def paralelos(v1, v2):\n",
        "  return v1[0]*v2[1] == v1[1]*v2[0]\n",
        "\n",
        "print(\"son paralelos?:\", paralelos([2,4],[1,2]))"
      ],
      "metadata": {
        "colab": {
          "base_uri": "https://localhost:8080/"
        },
        "id": "gXgTHYw0yrm2",
        "outputId": "525a9dce-31c5-48bc-9837-f35c5292c256"
      },
      "execution_count": 11,
      "outputs": [
        {
          "output_type": "stream",
          "name": "stdout",
          "text": [
            "son paralelos?: True\n"
          ]
        }
      ]
    },
    {
      "cell_type": "code",
      "source": [
        "#6\n",
        "import math\n",
        "def norma(v):\n",
        "  return math.sqrt(sum(x**2 for x in v))\n",
        "\n",
        "print(\"norma del vector:\", norma([3,4]))"
      ],
      "metadata": {
        "colab": {
          "base_uri": "https://localhost:8080/"
        },
        "id": "a6HNdQ7jzKnF",
        "outputId": "468b4f5c-888d-4970-a9de-cea74faa714e"
      },
      "execution_count": 12,
      "outputs": [
        {
          "output_type": "stream",
          "name": "stdout",
          "text": [
            "norma del vector: 5.0\n"
          ]
        }
      ]
    },
    {
      "cell_type": "code",
      "source": [
        "#7\n",
        "def dividir_lista(lista, k):\n",
        "  menores = [x for x in lista if x < k]\n",
        "  iguales = [x for x in lista if x == k]\n",
        "  mayores = [x for x in lista if x > k]\n",
        "  return menores, iguales, mayores\n",
        "\n",
        "def multiplos(lista, k):\n",
        "  return [x for x in lista if x % k == 0]\n",
        "\n",
        "lista =  [1,2,3,4,5,6,7,8,9,10]\n",
        "k = 5\n",
        "print(\"lista:\", dividir_lista(lista, k))\n",
        "print(\"multiplos de k:\", multiplos(lista, k))\n"
      ],
      "metadata": {
        "colab": {
          "base_uri": "https://localhost:8080/"
        },
        "id": "5oenmOvAznHc",
        "outputId": "45b031d2-7c33-4ace-ec0e-39ca76dec0e2"
      },
      "execution_count": 14,
      "outputs": [
        {
          "output_type": "stream",
          "name": "stdout",
          "text": [
            "lista: ([1, 2, 3, 4], [5], [6, 7, 8, 9, 10])\n",
            "multiplos de k: [5, 10]\n"
          ]
        }
      ]
    }
  ]
}